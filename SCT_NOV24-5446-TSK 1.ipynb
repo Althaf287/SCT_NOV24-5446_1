{
  "cells": [
    {
      "cell_type": "markdown",
      "metadata": {
        "id": "view-in-github",
        "colab_type": "text"
      },
      "source": [
        "<a href=\"https://colab.research.google.com/github/Althaf287/SCT_NOV24-5446_1/blob/main/SkillCaft_Technology_.ipynb\" target=\"_parent\"><img src=\"https://colab.research.google.com/assets/colab-badge.svg\" alt=\"Open In Colab\"/></a>"
      ]
    },
    {
      "cell_type": "markdown",
      "source": [
        "# **SKILLCRAFT_TECHNOLOGY**\n",
        "#Task 1st Done By Althaf N ID: SCT/NOV24/5446\n",
        "\n",
        "\n",
        "create a bar charts or histogram to visualize the distribution of a categorical or continuous variable such as the distribution of ages or gender in population task"
      ],
      "metadata": {
        "id": "4clyRLvy55-I"
      },
      "id": "4clyRLvy55-I"
    },
    {
      "cell_type": "code",
      "execution_count": null,
      "id": "b7b6a0cd-c2c0-4f91-a982-db1fba09e3f3",
      "metadata": {
        "id": "b7b6a0cd-c2c0-4f91-a982-db1fba09e3f3",
        "outputId": "1119c803-f662-4bea-babe-56b30df173b6"
      },
      "outputs": [
        {
          "name": "stdout",
          "output_type": "stream",
          "text": [
            "#SKILLCRAFT_TECHNOLOGY\n"
          ]
        }
      ],
      "source": [
        "print(\"#SKILLCRAFT_TECHNOLOGY\")"
      ]
    },
    {
      "cell_type": "code",
      "execution_count": null,
      "id": "59a86329-6482-450e-a643-6dd380503c0c",
      "metadata": {
        "id": "59a86329-6482-450e-a643-6dd380503c0c",
        "outputId": "3c3b728f-dd17-44f1-e774-4018e282e125"
      },
      "outputs": [
        {
          "name": "stdout",
          "output_type": "stream",
          "text": [
            "#Done By Althaf N \n"
          ]
        }
      ],
      "source": [
        "print(\"#Done By Althaf N \")"
      ]
    },
    {
      "cell_type": "code",
      "execution_count": 3,
      "id": "3be8057c-d148-4b37-8034-ae1b2b43f5e6",
      "metadata": {
        "colab": {
          "base_uri": "https://localhost:8080/"
        },
        "id": "3be8057c-d148-4b37-8034-ae1b2b43f5e6",
        "outputId": "7f91669e-1f16-4113-86a7-211d8b7538b5"
      },
      "outputs": [
        {
          "output_type": "stream",
          "name": "stdout",
          "text": [
            "TASK 01  create a bar charts or histogram to visualize \n",
            "the distribution of a categorical or continuous variable such as\n",
            " the distribution of ages or gender in population task \n"
          ]
        }
      ],
      "source": [
        "print(\"\"\"TASK 01  create a bar charts or histogram to visualize\n",
        "the distribution of a categorical or continuous variable such as\n",
        " the distribution of ages or gender in population task \"\"\")"
      ]
    },
    {
      "cell_type": "code",
      "execution_count": null,
      "id": "9cd2f63c-63c4-4fe1-a2f3-3c82a13731d9",
      "metadata": {
        "scrolled": true,
        "id": "9cd2f63c-63c4-4fe1-a2f3-3c82a13731d9",
        "outputId": "b4f2ddd7-c6ea-4f96-9a14-1bd91ea64412"
      },
      "outputs": [
        {
          "name": "stdout",
          "output_type": "stream",
          "text": [
            "Requirement already satisfied: pandas in c:\\users\\altha\\anaconda3\\lib\\site-packages (2.2.2)\n",
            "Requirement already satisfied: matplotlib in c:\\users\\altha\\anaconda3\\lib\\site-packages (3.8.4)\n",
            "Requirement already satisfied: seaborn in c:\\users\\altha\\anaconda3\\lib\\site-packages (0.13.2)\n",
            "Requirement already satisfied: numpy>=1.26.0 in c:\\users\\altha\\anaconda3\\lib\\site-packages (from pandas) (1.26.4)\n",
            "Requirement already satisfied: python-dateutil>=2.8.2 in c:\\users\\altha\\anaconda3\\lib\\site-packages (from pandas) (2.9.0.post0)\n",
            "Requirement already satisfied: pytz>=2020.1 in c:\\users\\altha\\anaconda3\\lib\\site-packages (from pandas) (2024.1)\n",
            "Requirement already satisfied: tzdata>=2022.7 in c:\\users\\altha\\anaconda3\\lib\\site-packages (from pandas) (2023.3)\n",
            "Requirement already satisfied: contourpy>=1.0.1 in c:\\users\\altha\\anaconda3\\lib\\site-packages (from matplotlib) (1.2.0)\n",
            "Requirement already satisfied: cycler>=0.10 in c:\\users\\altha\\anaconda3\\lib\\site-packages (from matplotlib) (0.11.0)\n",
            "Requirement already satisfied: fonttools>=4.22.0 in c:\\users\\altha\\anaconda3\\lib\\site-packages (from matplotlib) (4.51.0)\n",
            "Requirement already satisfied: kiwisolver>=1.3.1 in c:\\users\\altha\\anaconda3\\lib\\site-packages (from matplotlib) (1.4.4)\n",
            "Requirement already satisfied: packaging>=20.0 in c:\\users\\altha\\anaconda3\\lib\\site-packages (from matplotlib) (23.2)\n",
            "Requirement already satisfied: pillow>=8 in c:\\users\\altha\\anaconda3\\lib\\site-packages (from matplotlib) (10.3.0)\n",
            "Requirement already satisfied: pyparsing>=2.3.1 in c:\\users\\altha\\anaconda3\\lib\\site-packages (from matplotlib) (3.0.9)\n",
            "Requirement already satisfied: six>=1.5 in c:\\users\\altha\\anaconda3\\lib\\site-packages (from python-dateutil>=2.8.2->pandas) (1.16.0)\n",
            "Note: you may need to restart the kernel to use updated packages.\n"
          ]
        }
      ],
      "source": [
        "pip install pandas matplotlib seaborn"
      ]
    },
    {
      "cell_type": "code",
      "execution_count": null,
      "id": "de097b20-4128-4ee9-a155-e5386bd9f7c4",
      "metadata": {
        "id": "de097b20-4128-4ee9-a155-e5386bd9f7c4"
      },
      "outputs": [],
      "source": [
        "import pandas as pd\n",
        "import matplotlib.pyplot as plt\n",
        "import seaborn as sns\n"
      ]
    },
    {
      "cell_type": "code",
      "execution_count": null,
      "id": "8d6cd1dc-8d74-4010-a290-5a28a324b0fd",
      "metadata": {
        "id": "8d6cd1dc-8d74-4010-a290-5a28a324b0fd"
      },
      "outputs": [],
      "source": [
        "df = pd.read_csv(r\"C:\\Users\\altha\\Documents\\world_bank_population.csv.csv\")"
      ]
    },
    {
      "cell_type": "code",
      "execution_count": null,
      "id": "dc29d902-84bd-4ae2-ac84-ceebfb16828b",
      "metadata": {
        "id": "dc29d902-84bd-4ae2-ac84-ceebfb16828b",
        "outputId": "8d45b006-1999-481a-f661-e01e913054d8"
      },
      "outputs": [
        {
          "name": "stdout",
          "output_type": "stream",
          "text": [
            "                  Country Name Country Code     Indicator Name Indicator Code  \\\n",
            "0                        Aruba          ABW  Population, total    SP.POP.TOTL   \n",
            "1  Africa Eastern and Southern          AFE  Population, total    SP.POP.TOTL   \n",
            "2                  Afghanistan          AFG  Population, total    SP.POP.TOTL   \n",
            "3   Africa Western and Central          AFW  Population, total    SP.POP.TOTL   \n",
            "4                       Angola          AGO  Population, total    SP.POP.TOTL   \n",
            "\n",
            "          1960         1961         1962         1963         1964  \\\n",
            "0      54608.0      55811.0      56682.0      57475.0      58178.0   \n",
            "1  130692579.0  134169237.0  137835590.0  141630546.0  145605995.0   \n",
            "2    8622466.0    8790140.0    8969047.0    9157465.0    9355514.0   \n",
            "3   97256290.0   99314028.0  101445032.0  103667517.0  105959979.0   \n",
            "4    5357195.0    5441333.0    5521400.0    5599827.0    5673199.0   \n",
            "\n",
            "          1965  ...         2001         2002         2003         2004  \\\n",
            "0      58782.0  ...      90691.0      91781.0      92701.0      93540.0   \n",
            "1  149742351.0  ...  412001885.0  422741118.0  433807484.0  445281555.0   \n",
            "2    9565147.0  ...   19688632.0   21000256.0   22645130.0   23553551.0   \n",
            "3  108336203.0  ...  277160097.0  284952322.0  292977949.0  301265247.0   \n",
            "4    5736582.0  ...   16941587.0   17516139.0   18124342.0   18771125.0   \n",
            "\n",
            "          2005         2006         2007         2008         2009  \\\n",
            "0      94483.0      95606.0      96787.0      97996.0      99212.0   \n",
            "1  457153837.0  469508516.0  482406426.0  495748900.0  509410477.0   \n",
            "2   24411191.0   25442944.0   25903301.0   26427199.0   27385307.0   \n",
            "3  309824829.0  318601484.0  327612838.0  336893835.0  346475221.0   \n",
            "4   19450959.0   20162340.0   20909684.0   21691522.0   22507674.0   \n",
            "\n",
            "          2010  \n",
            "0     100341.0  \n",
            "1  523459657.0  \n",
            "2   28189672.0  \n",
            "3  356337762.0  \n",
            "4   23364185.0  \n",
            "\n",
            "[5 rows x 55 columns]\n",
            "(266, 55)\n",
            "<class 'pandas.core.frame.DataFrame'>\n",
            "RangeIndex: 266 entries, 0 to 265\n",
            "Data columns (total 55 columns):\n",
            " #   Column          Non-Null Count  Dtype  \n",
            "---  ------          --------------  -----  \n",
            " 0   Country Name    266 non-null    object \n",
            " 1   Country Code    266 non-null    object \n",
            " 2   Indicator Name  266 non-null    object \n",
            " 3   Indicator Code  266 non-null    object \n",
            " 4   1960            264 non-null    float64\n",
            " 5   1961            264 non-null    float64\n",
            " 6   1962            264 non-null    float64\n",
            " 7   1963            264 non-null    float64\n",
            " 8   1964            264 non-null    float64\n",
            " 9   1965            264 non-null    float64\n",
            " 10  1966            264 non-null    float64\n",
            " 11  1967            264 non-null    float64\n",
            " 12  1968            264 non-null    float64\n",
            " 13  1969            264 non-null    float64\n",
            " 14  1970            264 non-null    float64\n",
            " 15  1971            264 non-null    float64\n",
            " 16  1972            264 non-null    float64\n",
            " 17  1973            264 non-null    float64\n",
            " 18  1974            264 non-null    float64\n",
            " 19  1975            264 non-null    float64\n",
            " 20  1976            264 non-null    float64\n",
            " 21  1977            264 non-null    float64\n",
            " 22  1978            264 non-null    float64\n",
            " 23  1979            264 non-null    float64\n",
            " 24  1980            264 non-null    float64\n",
            " 25  1981            264 non-null    float64\n",
            " 26  1982            264 non-null    float64\n",
            " 27  1983            264 non-null    float64\n",
            " 28  1984            264 non-null    float64\n",
            " 29  1985            264 non-null    float64\n",
            " 30  1986            264 non-null    float64\n",
            " 31  1987            264 non-null    float64\n",
            " 32  1988            264 non-null    float64\n",
            " 33  1989            264 non-null    float64\n",
            " 34  1990            265 non-null    float64\n",
            " 35  1991            265 non-null    float64\n",
            " 36  1992            265 non-null    float64\n",
            " 37  1993            265 non-null    float64\n",
            " 38  1994            265 non-null    float64\n",
            " 39  1995            265 non-null    float64\n",
            " 40  1996            265 non-null    float64\n",
            " 41  1997            265 non-null    float64\n",
            " 42  1998            265 non-null    float64\n",
            " 43  1999            265 non-null    float64\n",
            " 44  2000            265 non-null    float64\n",
            " 45  2001            265 non-null    float64\n",
            " 46  2002            265 non-null    float64\n",
            " 47  2003            265 non-null    float64\n",
            " 48  2004            265 non-null    float64\n",
            " 49  2005            265 non-null    float64\n",
            " 50  2006            265 non-null    float64\n",
            " 51  2007            265 non-null    float64\n",
            " 52  2008            265 non-null    float64\n",
            " 53  2009            265 non-null    float64\n",
            " 54  2010            265 non-null    float64\n",
            "dtypes: float64(51), object(4)\n",
            "memory usage: 114.4+ KB\n",
            "None\n",
            "               1960          1961          1962          1963          1964  \\\n",
            "count  2.640000e+02  2.640000e+02  2.640000e+02  2.640000e+02  2.640000e+02   \n",
            "mean   1.157939e+08  1.173869e+08  1.195401e+08  1.222050e+08  1.248922e+08   \n",
            "std    3.639920e+08  3.684672e+08  3.751049e+08  3.837174e+08  3.923714e+08   \n",
            "min    2.646000e+03  2.888000e+03  3.171000e+03  3.481000e+03  3.811000e+03   \n",
            "25%    5.132212e+05  5.231345e+05  5.337595e+05  5.449288e+05  5.566630e+05   \n",
            "50%    3.708088e+06  3.816540e+06  3.931214e+06  4.033994e+06  4.112910e+06   \n",
            "75%    2.670606e+07  2.748694e+07  2.830289e+07  2.914708e+07  3.001684e+07   \n",
            "max    3.031517e+09  3.072470e+09  3.126894e+09  3.193470e+09  3.260480e+09   \n",
            "\n",
            "               1965          1966          1967          1968          1969  \\\n",
            "count  2.640000e+02  2.640000e+02  2.640000e+02  2.640000e+02  2.640000e+02   \n",
            "mean   1.276182e+08  1.304676e+08  1.333152e+08  1.362430e+08  1.392759e+08   \n",
            "std    4.011556e+08  4.104328e+08  4.196670e+08  4.291879e+08  4.390998e+08   \n",
            "min    4.161000e+03  4.531000e+03  4.930000e+03  5.354000e+03  5.646000e+03   \n",
            "25%    5.651150e+05  5.691470e+05  5.773872e+05  5.832700e+05  5.875942e+05   \n",
            "50%    4.194930e+06  4.257383e+06  4.317222e+06  4.410692e+06  4.515734e+06   \n",
            "75%    3.084892e+07  3.163010e+07  3.209247e+07  3.249927e+07  3.277149e+07   \n",
            "max    3.328243e+09  3.398510e+09  3.468395e+09  3.540186e+09  3.614593e+09   \n",
            "\n",
            "       ...          2001          2002          2003          2004  \\\n",
            "count  ...  2.650000e+02  2.650000e+02  2.650000e+02  2.650000e+02   \n",
            "mean   ...  2.474646e+08  2.509784e+08  2.544870e+08  2.580005e+08   \n",
            "std    ...  7.825582e+08  7.931720e+08  8.036888e+08  8.142003e+08   \n",
            "min    ...  9.621000e+03  9.609000e+03  9.668000e+03  9.791000e+03   \n",
            "25%    ...  1.306590e+06  1.341696e+06  1.353548e+06  1.361172e+06   \n",
            "50%    ...  8.223941e+06  8.372306e+06  8.567992e+06  8.791853e+06   \n",
            "75%    ...  5.010666e+07  5.166207e+07  5.320564e+07  5.481561e+07   \n",
            "max    ...  6.226487e+09  6.308285e+09  6.389593e+09  6.471034e+09   \n",
            "\n",
            "               2005          2006          2007          2008          2009  \\\n",
            "count  2.650000e+02  2.650000e+02  2.650000e+02  2.650000e+02  2.650000e+02   \n",
            "mean   2.615302e+08  2.650732e+08  2.686066e+08  2.722016e+08  2.758404e+08   \n",
            "std    8.247035e+08  8.351461e+08  8.454883e+08  8.559842e+08  8.666077e+08   \n",
            "min    9.912000e+03  1.003000e+04  1.014900e+04  1.024300e+04  1.023300e+04   \n",
            "25%    1.369075e+06  1.376919e+06  1.384861e+06  1.444277e+06  1.527196e+06   \n",
            "50%    9.026299e+06  9.080505e+06  9.148092e+06  9.219637e+06  9.298515e+06   \n",
            "75%    5.655025e+07  5.814398e+07  5.843831e+07  5.882673e+07  5.909536e+07   \n",
            "max    6.552787e+09  6.635163e+09  6.717584e+09  6.801422e+09  6.885609e+09   \n",
            "\n",
            "               2010  \n",
            "count  2.650000e+02  \n",
            "mean   2.795145e+08  \n",
            "std    8.773525e+08  \n",
            "min    1.024100e+04  \n",
            "25%    1.567220e+06  \n",
            "50%    9.483836e+06  \n",
            "75%    5.927742e+07  \n",
            "max    6.969895e+09  \n",
            "\n",
            "[8 rows x 51 columns]\n",
            "Country Name      0\n",
            "Country Code      0\n",
            "Indicator Name    0\n",
            "Indicator Code    0\n",
            "1960              2\n",
            "1961              2\n",
            "1962              2\n",
            "1963              2\n",
            "1964              2\n",
            "1965              2\n",
            "1966              2\n",
            "1967              2\n",
            "1968              2\n",
            "1969              2\n",
            "1970              2\n",
            "1971              2\n",
            "1972              2\n",
            "1973              2\n",
            "1974              2\n",
            "1975              2\n",
            "1976              2\n",
            "1977              2\n",
            "1978              2\n",
            "1979              2\n",
            "1980              2\n",
            "1981              2\n",
            "1982              2\n",
            "1983              2\n",
            "1984              2\n",
            "1985              2\n",
            "1986              2\n",
            "1987              2\n",
            "1988              2\n",
            "1989              2\n",
            "1990              1\n",
            "1991              1\n",
            "1992              1\n",
            "1993              1\n",
            "1994              1\n",
            "1995              1\n",
            "1996              1\n",
            "1997              1\n",
            "1998              1\n",
            "1999              1\n",
            "2000              1\n",
            "2001              1\n",
            "2002              1\n",
            "2003              1\n",
            "2004              1\n",
            "2005              1\n",
            "2006              1\n",
            "2007              1\n",
            "2008              1\n",
            "2009              1\n",
            "2010              1\n",
            "dtype: int64\n"
          ]
        }
      ],
      "source": [
        "print(df.head())\n",
        "print(df.shape)\n",
        "print(df.info())\n",
        "print(df.describe())\n",
        "print(df.isnull().sum())\n"
      ]
    },
    {
      "cell_type": "code",
      "execution_count": null,
      "id": "dd02edff-9f1f-413d-84a0-f097e6bc767b",
      "metadata": {
        "id": "dd02edff-9f1f-413d-84a0-f097e6bc767b"
      },
      "outputs": [],
      "source": [
        "df.drop(columns=['Country Code', 'Indicator Name'], inplace=True)"
      ]
    },
    {
      "cell_type": "code",
      "execution_count": null,
      "id": "8325e5f6-992a-4692-800d-59444c5f5d10",
      "metadata": {
        "id": "8325e5f6-992a-4692-800d-59444c5f5d10"
      },
      "outputs": [],
      "source": [
        "df.dropna(inplace=True)\n"
      ]
    },
    {
      "cell_type": "code",
      "execution_count": null,
      "id": "a81b85b9-5569-418c-b8fe-5153696abe99",
      "metadata": {
        "id": "a81b85b9-5569-418c-b8fe-5153696abe99",
        "outputId": "77e3b9fa-3529-4c31-80e4-93a5a3e19900"
      },
      "outputs": [
        {
          "name": "stdout",
          "output_type": "stream",
          "text": [
            "Country Name      0\n",
            "Indicator Code    0\n",
            "1960              0\n",
            "1961              0\n",
            "1962              0\n",
            "1963              0\n",
            "1964              0\n",
            "1965              0\n",
            "1966              0\n",
            "1967              0\n",
            "1968              0\n",
            "1969              0\n",
            "1970              0\n",
            "1971              0\n",
            "1972              0\n",
            "1973              0\n",
            "1974              0\n",
            "1975              0\n",
            "1976              0\n",
            "1977              0\n",
            "1978              0\n",
            "1979              0\n",
            "1980              0\n",
            "1981              0\n",
            "1982              0\n",
            "1983              0\n",
            "1984              0\n",
            "1985              0\n",
            "1986              0\n",
            "1987              0\n",
            "1988              0\n",
            "1989              0\n",
            "1990              0\n",
            "1991              0\n",
            "1992              0\n",
            "1993              0\n",
            "1994              0\n",
            "1995              0\n",
            "1996              0\n",
            "1997              0\n",
            "1998              0\n",
            "1999              0\n",
            "2000              0\n",
            "2001              0\n",
            "2002              0\n",
            "2003              0\n",
            "2004              0\n",
            "2005              0\n",
            "2006              0\n",
            "2007              0\n",
            "2008              0\n",
            "2009              0\n",
            "2010              0\n",
            "dtype: int64\n"
          ]
        }
      ],
      "source": [
        "print(df.isnull().sum())\n"
      ]
    },
    {
      "cell_type": "code",
      "execution_count": null,
      "id": "b93f9d0e-9071-4f73-a5d0-73f39fd5e222",
      "metadata": {
        "id": "b93f9d0e-9071-4f73-a5d0-73f39fd5e222"
      },
      "outputs": [],
      "source": [
        "total_population_df = df[df['Indicator Code'] == 'SP.POP.TOTL']"
      ]
    },
    {
      "cell_type": "code",
      "execution_count": null,
      "id": "0c4ea8eb-98b0-40d3-97ad-9077a9667f45",
      "metadata": {
        "id": "0c4ea8eb-98b0-40d3-97ad-9077a9667f45"
      },
      "outputs": [],
      "source": [
        "total_population_sort = total_population_df.sort_values(by='2010', ascending=False)\n",
        "top_ten_countries = total_population_sort.head(10)"
      ]
    },
    {
      "cell_type": "code",
      "execution_count": null,
      "id": "44bbf9c0-1ddc-4e5e-ab23-1b00a5283f19",
      "metadata": {
        "id": "44bbf9c0-1ddc-4e5e-ab23-1b00a5283f19"
      },
      "outputs": [],
      "source": [
        "bottom_ten_countries = total_population_sort.tail(10)\n"
      ]
    },
    {
      "cell_type": "code",
      "execution_count": null,
      "id": "7fcd6430-e3c3-43ab-a88e-9febbfe99826",
      "metadata": {
        "id": "7fcd6430-e3c3-43ab-a88e-9febbfe99826"
      },
      "outputs": [],
      "source": [
        "def add_value_labels(ax, spacing=10):\n",
        "    for rect in ax.patches:\n",
        "        x = rect.get_x() + rect.get_width() / 2\n",
        "        y = rect.get_height() - 3\n",
        "        va = 'bottom' if y > 0 else 'top'\n",
        "        label = f\"{int(y)}\"\n",
        "        y_shift = spacing * (1 if y >= 0 else -1)\n",
        "        ax.annotate(label, (x, y), xytext=(0, y_shift), textcoords='offset points', ha='center', va=va)\n"
      ]
    },
    {
      "cell_type": "code",
      "execution_count": null,
      "id": "8f59a255-18cd-43c5-9f91-2dcdc2ed5cbf",
      "metadata": {
        "id": "8f59a255-18cd-43c5-9f91-2dcdc2ed5cbf",
        "outputId": "7f4cfa4d-b660-4740-a823-baa8ce281703"
      },
      "outputs": [
        {
          "data": {
            "image/png": "[encoded data removed]",
            "text/plain": [
              "<Figure size 2000x1300 with 1 Axes>"
            ]
          },
          "metadata": {},
          "output_type": "display_data"
        }
      ],
      "source": [
        "plt.figure(figsize=(20, 13))\n",
        "plt.subplot(2, 2, 1)\n",
        "sns.barplot(x='2010', y='Country Name', data=top_ten_countries, palette='Set1', hue='Country Name')\n",
        "plt.title(\"Top Ten Countries by Total Population (2010)\", fontsize=16)\n",
        "plt.xlabel(\"Total Population\", fontsize=12)\n",
        "plt.ylabel(\"Country\", fontsize=12)\n",
        "add_value_labels(plt.gca())\n"
      ]
    },
    {
      "cell_type": "code",
      "execution_count": null,
      "id": "1c3f8dd7-f32c-4929-9fff-d999c9b6cd68",
      "metadata": {
        "id": "1c3f8dd7-f32c-4929-9fff-d999c9b6cd68",
        "outputId": "650f0f8d-80de-4ecb-c1d0-9da0a423d825"
      },
      "outputs": [
        {
          "data": {
            "image/png": "[encoded data removed]",
            "text/plain": [
              "<Figure size 640x480 with 1 Axes>"
            ]
          },
          "metadata": {},
          "output_type": "display_data"
        }
      ],
      "source": [
        "plt.subplot(2, 2, 2)\n",
        "sns.barplot(x='2010', y='Country Name', data=bottom_ten_countries, palette='Set2', hue='Country Name')\n",
        "plt.title(\"Bottom Ten Countries by Total Population (2010)\", fontsize=16)\n",
        "plt.xlabel(\"Total Population\", fontsize=12)\n",
        "plt.ylabel(\"Country\", fontsize=12)\n",
        "add_value_labels(plt.gca())"
      ]
    },
    {
      "cell_type": "code",
      "execution_count": null,
      "id": "5988745e-7e72-4ebb-830c-70aa848a6d6e",
      "metadata": {
        "id": "5988745e-7e72-4ebb-830c-70aa848a6d6e"
      },
      "outputs": [],
      "source": [
        "male_population_df = df[df['Indicator Code'] == 'SP.POP.MALE']\n",
        "female_population_df = df[df['Indicator Code'] == 'SP.POP.FEMALE']"
      ]
    },
    {
      "cell_type": "code",
      "execution_count": null,
      "id": "41a42d14-2a33-4693-982b-106fc2f3e209",
      "metadata": {
        "id": "41a42d14-2a33-4693-982b-106fc2f3e209",
        "outputId": "4214d59a-7bca-4be5-e47a-3762dbd94cd2"
      },
      "outputs": [
        {
          "data": {
            "text/plain": [
              "<Figure size 2000x1300 with 0 Axes>"
            ]
          },
          "execution_count": 39,
          "metadata": {},
          "output_type": "execute_result"
        },
        {
          "data": {
            "text/plain": [
              "<Figure size 2000x1300 with 0 Axes>"
            ]
          },
          "metadata": {},
          "output_type": "display_data"
        }
      ],
      "source": [
        "top_male_population = male_population_df.sort_values(by='2010', ascending=False).head(10)\n",
        "top_female_population = female_population_df.sort_values(by='2010', ascending=False).head(10)\n",
        "\n",
        "plt.figure(figsize=(20, 13))\n"
      ]
    },
    {
      "cell_type": "code",
      "execution_count": null,
      "id": "b7faa4f9-bb3f-41ec-a5b2-f932ffdb25aa",
      "metadata": {
        "id": "b7faa4f9-bb3f-41ec-a5b2-f932ffdb25aa",
        "outputId": "95a3e1c5-07c5-4610-8f97-6d085de03620"
      },
      "outputs": [
        {
          "data": {
            "image/png": "[encoded data removed]",
            "text/plain": [
              "<Figure size 640x480 with 1 Axes>"
            ]
          },
          "metadata": {},
          "output_type": "display_data"
        }
      ],
      "source": [
        "plt.subplot(2, 2, 3)\n",
        "sns.barplot(x='2010', y='Country Name', data=top_male_population, palette='Blues', hue='Country Name')\n",
        "plt.title(\"Top Ten Countries by Male Population (2010)\", fontsize=16)\n",
        "plt.xlabel(\"Male Population\", fontsize=12)\n",
        "plt.ylabel(\"Country\", fontsize=12)\n",
        "add_value_labels(plt.gca())\n",
        "\n",
        "plt.tight_layout()\n",
        "plt.show()"
      ]
    },
    {
      "cell_type": "code",
      "execution_count": null,
      "id": "7a8266af-448a-4344-826c-f20126f1a659",
      "metadata": {
        "id": "7a8266af-448a-4344-826c-f20126f1a659",
        "outputId": "78f4bb6a-2eba-4e4d-b78f-4d17ee54c5da"
      },
      "outputs": [
        {
          "data": {
            "text/html": [
              "<div>\n",
              "<style scoped>\n",
              "    .dataframe tbody tr th:only-of-type {\n",
              "        vertical-align: middle;\n",
              "    }\n",
              "\n",
              "    .dataframe tbody tr th {\n",
              "        vertical-align: top;\n",
              "    }\n",
              "\n",
              "    .dataframe thead th {\n",
              "        text-align: right;\n",
              "    }\n",
              "</style>\n",
              "<table border=\"1\" class=\"dataframe\">\n",
              "  <thead>\n",
              "    <tr style=\"text-align: right;\">\n",
              "      <th></th>\n",
              "      <th>Country Name</th>\n",
              "      <th>Indicator Code</th>\n",
              "      <th>1960</th>\n",
              "      <th>1961</th>\n",
              "      <th>1962</th>\n",
              "      <th>1963</th>\n",
              "      <th>1964</th>\n",
              "      <th>1965</th>\n",
              "      <th>1966</th>\n",
              "      <th>1967</th>\n",
              "      <th>...</th>\n",
              "      <th>2001</th>\n",
              "      <th>2002</th>\n",
              "      <th>2003</th>\n",
              "      <th>2004</th>\n",
              "      <th>2005</th>\n",
              "      <th>2006</th>\n",
              "      <th>2007</th>\n",
              "      <th>2008</th>\n",
              "      <th>2009</th>\n",
              "      <th>2010</th>\n",
              "    </tr>\n",
              "  </thead>\n",
              "  <tbody>\n",
              "    <tr>\n",
              "      <th>41</th>\n",
              "      <td>Cote d'Ivoire</td>\n",
              "      <td>SP.POP.TOTL</td>\n",
              "      <td>3708661.0</td>\n",
              "      <td>3848336.0</td>\n",
              "      <td>3998287.0</td>\n",
              "      <td>4156453.0</td>\n",
              "      <td>4321368.0</td>\n",
              "      <td>4492890.0</td>\n",
              "      <td>4671196.0</td>\n",
              "      <td>4856689.0</td>\n",
              "      <td>...</td>\n",
              "      <td>17245468.0</td>\n",
              "      <td>17683897.0</td>\n",
              "      <td>18116451.0</td>\n",
              "      <td>18544903.0</td>\n",
              "      <td>18970215.0</td>\n",
              "      <td>19394057.0</td>\n",
              "      <td>19817700.0</td>\n",
              "      <td>20244449.0</td>\n",
              "      <td>20677762.0</td>\n",
              "      <td>21120042.0</td>\n",
              "    </tr>\n",
              "    <tr>\n",
              "      <th>195</th>\n",
              "      <td>Paraguay</td>\n",
              "      <td>SP.POP.TOTL</td>\n",
              "      <td>1894829.0</td>\n",
              "      <td>1941208.0</td>\n",
              "      <td>1989376.0</td>\n",
              "      <td>2039390.0</td>\n",
              "      <td>2090840.0</td>\n",
              "      <td>2143153.0</td>\n",
              "      <td>2195955.0</td>\n",
              "      <td>2248882.0</td>\n",
              "      <td>...</td>\n",
              "      <td>5211541.0</td>\n",
              "      <td>5286512.0</td>\n",
              "      <td>5353254.0</td>\n",
              "      <td>5416324.0</td>\n",
              "      <td>5476878.0</td>\n",
              "      <td>5534675.0</td>\n",
              "      <td>5590145.0</td>\n",
              "      <td>5645148.0</td>\n",
              "      <td>5702574.0</td>\n",
              "      <td>5768613.0</td>\n",
              "    </tr>\n",
              "    <tr>\n",
              "      <th>202</th>\n",
              "      <td>Russian Federation</td>\n",
              "      <td>SP.POP.TOTL</td>\n",
              "      <td>119897000.0</td>\n",
              "      <td>121236000.0</td>\n",
              "      <td>122591000.0</td>\n",
              "      <td>123960000.0</td>\n",
              "      <td>125345000.0</td>\n",
              "      <td>126745000.0</td>\n",
              "      <td>127468000.0</td>\n",
              "      <td>128196000.0</td>\n",
              "      <td>...</td>\n",
              "      <td>145976482.0</td>\n",
              "      <td>145306497.0</td>\n",
              "      <td>144648618.0</td>\n",
              "      <td>144067316.0</td>\n",
              "      <td>143518814.0</td>\n",
              "      <td>143049637.0</td>\n",
              "      <td>142805114.0</td>\n",
              "      <td>142742366.0</td>\n",
              "      <td>142785348.0</td>\n",
              "      <td>142849468.0</td>\n",
              "    </tr>\n",
              "    <tr>\n",
              "      <th>260</th>\n",
              "      <td>Samoa</td>\n",
              "      <td>SP.POP.TOTL</td>\n",
              "      <td>113335.0</td>\n",
              "      <td>116820.0</td>\n",
              "      <td>120163.0</td>\n",
              "      <td>123416.0</td>\n",
              "      <td>126582.0</td>\n",
              "      <td>129789.0</td>\n",
              "      <td>132976.0</td>\n",
              "      <td>135752.0</td>\n",
              "      <td>...</td>\n",
              "      <td>185530.0</td>\n",
              "      <td>186630.0</td>\n",
              "      <td>187440.0</td>\n",
              "      <td>188073.0</td>\n",
              "      <td>188626.0</td>\n",
              "      <td>189379.0</td>\n",
              "      <td>190478.0</td>\n",
              "      <td>191787.0</td>\n",
              "      <td>193176.0</td>\n",
              "      <td>194672.0</td>\n",
              "    </tr>\n",
              "    <tr>\n",
              "      <th>39</th>\n",
              "      <td>Chile</td>\n",
              "      <td>SP.POP.TOTL</td>\n",
              "      <td>8141820.0</td>\n",
              "      <td>8313535.0</td>\n",
              "      <td>8486120.0</td>\n",
              "      <td>8656006.0</td>\n",
              "      <td>8825046.0</td>\n",
              "      <td>8994936.0</td>\n",
              "      <td>9161649.0</td>\n",
              "      <td>9326268.0</td>\n",
              "      <td>...</td>\n",
              "      <td>15523978.0</td>\n",
              "      <td>15693790.0</td>\n",
              "      <td>15859112.0</td>\n",
              "      <td>16017966.0</td>\n",
              "      <td>16175311.0</td>\n",
              "      <td>16334575.0</td>\n",
              "      <td>16495538.0</td>\n",
              "      <td>16661462.0</td>\n",
              "      <td>16833447.0</td>\n",
              "      <td>17004162.0</td>\n",
              "    </tr>\n",
              "    <tr>\n",
              "      <th>106</th>\n",
              "      <td>Indonesia</td>\n",
              "      <td>SP.POP.TOTL</td>\n",
              "      <td>88382881.0</td>\n",
              "      <td>90816938.0</td>\n",
              "      <td>93345489.0</td>\n",
              "      <td>95962527.0</td>\n",
              "      <td>98675061.0</td>\n",
              "      <td>101157868.0</td>\n",
              "      <td>103561105.0</td>\n",
              "      <td>106260749.0</td>\n",
              "      <td>...</td>\n",
              "      <td>217112437.0</td>\n",
              "      <td>220115092.0</td>\n",
              "      <td>223080121.0</td>\n",
              "      <td>225938595.0</td>\n",
              "      <td>228805144.0</td>\n",
              "      <td>231797427.0</td>\n",
              "      <td>234858289.0</td>\n",
              "      <td>237936543.0</td>\n",
              "      <td>240981299.0</td>\n",
              "      <td>244016173.0</td>\n",
              "    </tr>\n",
              "    <tr>\n",
              "      <th>91</th>\n",
              "      <td>Greenland</td>\n",
              "      <td>SP.POP.TOTL</td>\n",
              "      <td>32500.0</td>\n",
              "      <td>33700.0</td>\n",
              "      <td>35000.0</td>\n",
              "      <td>36400.0</td>\n",
              "      <td>37600.0</td>\n",
              "      <td>39200.0</td>\n",
              "      <td>40500.0</td>\n",
              "      <td>41900.0</td>\n",
              "      <td>...</td>\n",
              "      <td>56350.0</td>\n",
              "      <td>56609.0</td>\n",
              "      <td>56765.0</td>\n",
              "      <td>56911.0</td>\n",
              "      <td>56935.0</td>\n",
              "      <td>56774.0</td>\n",
              "      <td>56555.0</td>\n",
              "      <td>56328.0</td>\n",
              "      <td>56323.0</td>\n",
              "      <td>56905.0</td>\n",
              "    </tr>\n",
              "    <tr>\n",
              "      <th>1</th>\n",
              "      <td>Africa Eastern and Southern</td>\n",
              "      <td>SP.POP.TOTL</td>\n",
              "      <td>130692579.0</td>\n",
              "      <td>134169237.0</td>\n",
              "      <td>137835590.0</td>\n",
              "      <td>141630546.0</td>\n",
              "      <td>145605995.0</td>\n",
              "      <td>149742351.0</td>\n",
              "      <td>153955516.0</td>\n",
              "      <td>158313235.0</td>\n",
              "      <td>...</td>\n",
              "      <td>412001885.0</td>\n",
              "      <td>422741118.0</td>\n",
              "      <td>433807484.0</td>\n",
              "      <td>445281555.0</td>\n",
              "      <td>457153837.0</td>\n",
              "      <td>469508516.0</td>\n",
              "      <td>482406426.0</td>\n",
              "      <td>495748900.0</td>\n",
              "      <td>509410477.0</td>\n",
              "      <td>523459657.0</td>\n",
              "    </tr>\n",
              "    <tr>\n",
              "      <th>83</th>\n",
              "      <td>Ghana</td>\n",
              "      <td>SP.POP.TOTL</td>\n",
              "      <td>6911510.0</td>\n",
              "      <td>7109029.0</td>\n",
              "      <td>7281192.0</td>\n",
              "      <td>7458243.0</td>\n",
              "      <td>7640196.0</td>\n",
              "      <td>7827726.0</td>\n",
              "      <td>8019658.0</td>\n",
              "      <td>8216086.0</td>\n",
              "      <td>...</td>\n",
              "      <td>20195577.0</td>\n",
              "      <td>20758326.0</td>\n",
              "      <td>21329514.0</td>\n",
              "      <td>21906444.0</td>\n",
              "      <td>22496951.0</td>\n",
              "      <td>23098586.0</td>\n",
              "      <td>23708320.0</td>\n",
              "      <td>24326087.0</td>\n",
              "      <td>24950762.0</td>\n",
              "      <td>25574719.0</td>\n",
              "    </tr>\n",
              "    <tr>\n",
              "      <th>68</th>\n",
              "      <td>Euro area</td>\n",
              "      <td>SP.POP.TOTL</td>\n",
              "      <td>269385168.0</td>\n",
              "      <td>271727867.0</td>\n",
              "      <td>274105087.0</td>\n",
              "      <td>276517540.0</td>\n",
              "      <td>278953378.0</td>\n",
              "      <td>281432987.0</td>\n",
              "      <td>283803777.0</td>\n",
              "      <td>285908171.0</td>\n",
              "      <td>...</td>\n",
              "      <td>326862028.0</td>\n",
              "      <td>328443707.0</td>\n",
              "      <td>330208234.0</td>\n",
              "      <td>332006792.0</td>\n",
              "      <td>333709006.0</td>\n",
              "      <td>335250759.0</td>\n",
              "      <td>336971054.0</td>\n",
              "      <td>338599969.0</td>\n",
              "      <td>339682801.0</td>\n",
              "      <td>340467048.0</td>\n",
              "    </tr>\n",
              "  </tbody>\n",
              "</table>\n",
              "<p>10 rows × 53 columns</p>\n",
              "</div>"
            ],
            "text/plain": [
              "                    Country Name Indicator Code         1960         1961  \\\n",
              "41                 Cote d'Ivoire    SP.POP.TOTL    3708661.0    3848336.0   \n",
              "195                     Paraguay    SP.POP.TOTL    1894829.0    1941208.0   \n",
              "202           Russian Federation    SP.POP.TOTL  119897000.0  121236000.0   \n",
              "260                        Samoa    SP.POP.TOTL     113335.0     116820.0   \n",
              "39                         Chile    SP.POP.TOTL    8141820.0    8313535.0   \n",
              "106                    Indonesia    SP.POP.TOTL   88382881.0   90816938.0   \n",
              "91                     Greenland    SP.POP.TOTL      32500.0      33700.0   \n",
              "1    Africa Eastern and Southern    SP.POP.TOTL  130692579.0  134169237.0   \n",
              "83                         Ghana    SP.POP.TOTL    6911510.0    7109029.0   \n",
              "68                     Euro area    SP.POP.TOTL  269385168.0  271727867.0   \n",
              "\n",
              "            1962         1963         1964         1965         1966  \\\n",
              "41     3998287.0    4156453.0    4321368.0    4492890.0    4671196.0   \n",
              "195    1989376.0    2039390.0    2090840.0    2143153.0    2195955.0   \n",
              "202  122591000.0  123960000.0  125345000.0  126745000.0  127468000.0   \n",
              "260     120163.0     123416.0     126582.0     129789.0     132976.0   \n",
              "39     8486120.0    8656006.0    8825046.0    8994936.0    9161649.0   \n",
              "106   93345489.0   95962527.0   98675061.0  101157868.0  103561105.0   \n",
              "91       35000.0      36400.0      37600.0      39200.0      40500.0   \n",
              "1    137835590.0  141630546.0  145605995.0  149742351.0  153955516.0   \n",
              "83     7281192.0    7458243.0    7640196.0    7827726.0    8019658.0   \n",
              "68   274105087.0  276517540.0  278953378.0  281432987.0  283803777.0   \n",
              "\n",
              "            1967  ...         2001         2002         2003         2004  \\\n",
              "41     4856689.0  ...   17245468.0   17683897.0   18116451.0   18544903.0   \n",
              "195    2248882.0  ...    5211541.0    5286512.0    5353254.0    5416324.0   \n",
              "202  128196000.0  ...  145976482.0  145306497.0  144648618.0  144067316.0   \n",
              "260     135752.0  ...     185530.0     186630.0     187440.0     188073.0   \n",
              "39     9326268.0  ...   15523978.0   15693790.0   15859112.0   16017966.0   \n",
              "106  106260749.0  ...  217112437.0  220115092.0  223080121.0  225938595.0   \n",
              "91       41900.0  ...      56350.0      56609.0      56765.0      56911.0   \n",
              "1    158313235.0  ...  412001885.0  422741118.0  433807484.0  445281555.0   \n",
              "83     8216086.0  ...   20195577.0   20758326.0   21329514.0   21906444.0   \n",
              "68   285908171.0  ...  326862028.0  328443707.0  330208234.0  332006792.0   \n",
              "\n",
              "            2005         2006         2007         2008         2009  \\\n",
              "41    18970215.0   19394057.0   19817700.0   20244449.0   20677762.0   \n",
              "195    5476878.0    5534675.0    5590145.0    5645148.0    5702574.0   \n",
              "202  143518814.0  143049637.0  142805114.0  142742366.0  142785348.0   \n",
              "260     188626.0     189379.0     190478.0     191787.0     193176.0   \n",
              "39    16175311.0   16334575.0   16495538.0   16661462.0   16833447.0   \n",
              "106  228805144.0  231797427.0  234858289.0  237936543.0  240981299.0   \n",
              "91       56935.0      56774.0      56555.0      56328.0      56323.0   \n",
              "1    457153837.0  469508516.0  482406426.0  495748900.0  509410477.0   \n",
              "83    22496951.0   23098586.0   23708320.0   24326087.0   24950762.0   \n",
              "68   333709006.0  335250759.0  336971054.0  338599969.0  339682801.0   \n",
              "\n",
              "            2010  \n",
              "41    21120042.0  \n",
              "195    5768613.0  \n",
              "202  142849468.0  \n",
              "260     194672.0  \n",
              "39    17004162.0  \n",
              "106  244016173.0  \n",
              "91       56905.0  \n",
              "1    523459657.0  \n",
              "83    25574719.0  \n",
              "68   340467048.0  \n",
              "\n",
              "[10 rows x 53 columns]"
            ]
          },
          "execution_count": 57,
          "metadata": {},
          "output_type": "execute_result"
        }
      ],
      "source": [
        "df.sample(10)"
      ]
    },
    {
      "cell_type": "code",
      "execution_count": null,
      "id": "6bfe9d46-c006-4ee6-9c8b-04c1730d290e",
      "metadata": {
        "id": "6bfe9d46-c006-4ee6-9c8b-04c1730d290e"
      },
      "outputs": [],
      "source": [
        "# THANKS YOU!"
      ]
    }
  ],
  "metadata": {
    "kernelspec": {
      "display_name": "Python 3 (ipykernel)",
      "language": "python",
      "name": "python3"
    },
    "language_info": {
      "codemirror_mode": {
        "name": "ipython",
        "version": 3
      },
      "file_extension": ".py",
      "mimetype": "text/x-python",
      "name": "python",
      "nbconvert_exporter": "python",
      "pygments_lexer": "ipython3",
      "version": "3.12.4"
    },
    "colab": {
      "provenance": [],
      "include_colab_link": true
    }
  },
  "nbformat": 4,
  "nbformat_minor": 5
}
